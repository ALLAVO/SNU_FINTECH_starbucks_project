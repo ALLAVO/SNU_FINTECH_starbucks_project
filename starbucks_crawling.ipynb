{
 "cells": [
  {
   "cell_type": "code",
   "id": "initial_id",
   "metadata": {
    "collapsed": true,
    "ExecuteTime": {
     "end_time": "2025-02-17T08:47:12.336435Z",
     "start_time": "2025-02-17T08:47:02.041297Z"
    }
   },
   "source": [
    "# webdriver_manager로 자동으로 열기\n",
    "from webdriver_manager.chrome import ChromeDriverManager\n",
    "from selenium.webdriver.chrome.service import Service\n",
    "# 자동화하는 라이브러리\n",
    "from selenium import webdriver\n",
    "\n",
    "# ChromeDriver 설정\n",
    "service = Service(ChromeDriverManager().install())  # ChromeDriver 경로 자동 설정\n",
    "driver = webdriver.Chrome(service=service)\n",
    "\n",
    "URL = \"https://www.starbucks.co.kr/store/store_map.do\"\n",
    "driver.get(url = URL)\n",
    "\n",
    "driver.implicitly_wait(time_to_wait=10)"
   ],
   "outputs": [],
   "execution_count": 1
  },
  {
   "metadata": {
    "ExecuteTime": {
     "end_time": "2025-02-10T06:47:08.474407Z",
     "start_time": "2025-02-10T06:47:08.387063Z"
    }
   },
   "cell_type": "code",
   "source": [
    "# 어떤 요소를 가지고 값을 선택할지에 대한 라이브러리\n",
    "from selenium.webdriver.common.by import By\n",
    "import time\n",
    "\n",
    "location_search = driver.find_element(By.CSS_SELECTOR, \"#container > div > form > fieldset > div > section > article.find_store_cont > article > header.loca_search > h3 > a\")\n",
    "# \"지역 검색\" 으로 이동\n",
    "location_search.click()\n",
    "                            "
   ],
   "id": "1a8820f90830f527",
   "execution_count": 711,
   "outputs": []
  },
  {
   "metadata": {
    "ExecuteTime": {
     "end_time": "2025-02-10T06:47:09.575290Z",
     "start_time": "2025-02-10T06:47:09.413885Z"
    }
   },
   "cell_type": "code",
   "source": [
    "location_list = driver.find_elements(By.CSS_SELECTOR, \"#container > div > form > fieldset > div > section > article.find_store_cont > article > article > div.loca_step1 > div.loca_step1_cont > ul > li > a\")\n",
    "\n",
    "for location in location_list:\n",
    "    print(location.text, end = ' ')"
   ],
   "id": "c740209ee86dc34c",
   "execution_count": 712,
   "outputs": []
  },
  {
   "metadata": {
    "ExecuteTime": {
     "end_time": "2025-02-10T06:47:10.790019Z",
     "start_time": "2025-02-10T06:47:10.675120Z"
    }
   },
   "cell_type": "code",
   "source": [
    "# 페이지의 \"지역 검색\" 클릭\n",
    "driver.find_element(By.CSS_SELECTOR, \"#container > div > form > fieldset > div > section > article.find_store_cont > article > article:nth-child(4) > div.loca_step1 > div.loca_step1_cont > ul > li:nth-child(1) > a\").click()"
   ],
   "id": "92fb11689515f5f9",
   "execution_count": 713,
   "outputs": []
  },
  {
   "metadata": {
    "ExecuteTime": {
     "end_time": "2025-02-10T06:47:11.543199Z",
     "start_time": "2025-02-10T06:47:11.427934Z"
    }
   },
   "cell_type": "code",
   "source": [
    "# 페이지의 \"서울 전체\" 매장으로 이동\n",
    "driver.find_element(By.CSS_SELECTOR, \"#mCSB_2_container > ul > li:nth-child(1) > a\").click()"
   ],
   "id": "958c8f3d62c746e6",
   "execution_count": 714,
   "outputs": []
  },
  {
   "metadata": {},
   "cell_type": "markdown",
   "source": "### 서울 전체 매장 데이터 크롤링",
   "id": "f13b0e155f1c025c"
  },
  {
   "metadata": {
    "ExecuteTime": {
     "end_time": "2025-02-10T06:47:19.074611Z",
     "start_time": "2025-02-10T06:47:13.768509Z"
    }
   },
   "cell_type": "code",
   "source": [
    "data_location_list = []\n",
    "data_name_list = []\n",
    "data_lat_list = []\n",
    "data_long_list = []\n",
    "매장_list = driver.find_elements(By.CSS_SELECTOR, \"#mCSB_3_container > ul > li\")\n",
    "\n",
    "for 매장 in 매장_list:\n",
    "    data_location_list.append(location.text)\n",
    "    # 매장의 이름, 위도, 경도 값을 list에 저장\n",
    "    data_name_list.append(매장.get_attribute(\"data-name\"))\n",
    "    data_lat_list.append(매장.get_attribute(\"data-lat\"))\n",
    "    data_long_list.append(매장.get_attribute(\"data-long\"))\n",
    "\n",
    "\n",
    "print(data_name_list[0:10])\n",
    "print(data_lat_list[0:10])\n",
    "print(data_long_list[0:10])"
   ],
   "id": "85fe23644c56ee14",
   "execution_count": 715,
   "outputs": []
  },
  {
   "metadata": {
    "ExecuteTime": {
     "end_time": "2025-02-10T06:47:23.905462Z",
     "start_time": "2025-02-10T06:47:23.900325Z"
    }
   },
   "cell_type": "code",
   "source": [
    "import pandas as pd\n",
    "\n",
    "df = pd.DataFrame()\n",
    "\n",
    "df[\"이름\"] = data_name_list\n",
    "df[\"lat\"] = data_lat_list\n",
    "df[\"long\"] = data_long_list\n",
    "\n",
    "df.to_csv(\"starbucks_seoul_data.csv\")\n",
    "# df.to_excel(\"starbucks_seoul_data.xlsx\")"
   ],
   "id": "84078cb921c7f13d",
   "execution_count": 716,
   "outputs": []
  },
  {
   "metadata": {},
   "cell_type": "markdown",
   "source": "### 개별 체크박스 크롤링",
   "id": "a0b3705d55a05a4c"
  },
  {
   "metadata": {
    "ExecuteTime": {
     "end_time": "2025-02-10T06:47:27.850788Z",
     "start_time": "2025-02-10T06:47:27.809735Z"
    }
   },
   "cell_type": "code",
   "source": [
    "# 페이지의 \"옵션 선택\" 으로 이동\n",
    "driver.find_element(By.CSS_SELECTOR, \"#container > div > form > fieldset > div > section > article.find_store_cont > header > p > a\").click()"
   ],
   "id": "acf2f783bba92ccb",
   "execution_count": 717,
   "outputs": []
  },
  {
   "metadata": {},
   "cell_type": "markdown",
   "source": "체크박스 목록 가져오기",
   "id": "5d35453028e55d99"
  },
  {
   "metadata": {
    "ExecuteTime": {
     "end_time": "2025-02-10T06:47:35.798077Z",
     "start_time": "2025-02-10T06:47:29.663192Z"
    }
   },
   "cell_type": "code",
   "source": [
    "# ✅ \"위치 및 시설\" 섹션 (`dl.opt_select_dl3`) 찾기\n",
    "checkbox_section = driver.find_element(By.CSS_SELECTOR, \"#mCSB_7_container > dl.opt_select_dl3\")\n",
    "\n",
    "# ✅ 섹션 내 모든 label 요소 가져오기\n",
    "labels = checkbox_section.find_elements(By.CSS_SELECTOR, \"dd > label\")\n",
    "\n",
    "# ✅ 스크롤 가능한 div 찾기 (스크롤을 적용할 대상)\n",
    "#mCSB_7_dragger_vertical\n",
    "scrollable_div = driver.find_element(By.CSS_SELECTOR, \"#mCSB_7_dragger_vertical\")\n",
    "\n",
    "# ✅ 체크박스가 화면에 보이도록 하나씩 `scrollIntoView()`\n",
    "for label in labels:\n",
    "    driver.execute_script(\"arguments[0].scrollIntoView({block: 'center'});\", label)\n",
    "    time.sleep(0.5)  # 스크롤 후 로딩 대기\n",
    "\n",
    "# ✅ 체크박스 이름을 저장할 리스트\n",
    "checkbox_name_list = [label.text.strip() for label in labels]\n",
    "\n",
    "# ✅ 결과 출력\n",
    "print(\"✅ 저장된 체크박스 이름 목록:\")\n",
    "print(checkbox_name_list)"
   ],
   "id": "8f8f8c19674b0b01",
   "execution_count": 718,
   "outputs": []
  },
  {
   "metadata": {
    "ExecuteTime": {
     "end_time": "2025-02-10T06:47:41.195199Z",
     "start_time": "2025-02-10T06:47:41.182596Z"
    }
   },
   "cell_type": "code",
   "source": [
    "# 검색할 옵션 리스트\n",
    "options_to_select = [\"대학가\", \"터미널/기차역\", \"병원\", \"지하철 인접\"]\n",
    "\n",
    "# 결과 저장 리스트\n",
    "all_data = []\n"
   ],
   "id": "538daebd851ad453",
   "execution_count": 719,
   "outputs": []
  },
  {
   "metadata": {},
   "cell_type": "markdown",
   "source": "옵션 check",
   "id": "772f41dfdfbbcefa"
  },
  {
   "metadata": {
    "ExecuteTime": {
     "end_time": "2025-02-10T06:47:42.967724Z",
     "start_time": "2025-02-10T06:47:42.965131Z"
    }
   },
   "cell_type": "code",
   "source": [
    "import pandas as pd\n",
    "import os\n",
    "\n",
    "save_dir = \"data\"  # 저장할 디렉토리\n",
    "\n",
    "# 디렉토리 없으면 생성\n",
    "if not os.path.exists(save_dir):\n",
    "    os.makedirs(save_dir)\n",
    "\n",
    "print(f\"📂 저장 경로: {os.path.abspath(save_dir)}\")\n",
    "\n"
   ],
   "id": "a28955240e663104",
   "execution_count": 720,
   "outputs": []
  },
  {
   "metadata": {
    "ExecuteTime": {
     "end_time": "2025-02-10T06:48:50.093632Z",
     "start_time": "2025-02-10T06:47:44.277767Z"
    }
   },
   "cell_type": "code",
   "source": [
    "count = 0  # 클릭 횟수를 추적하는 변수\n",
    "\n",
    "for option in options_to_select:\n",
    "    try:\n",
    "        print(f\"\\n🔎 현재 옵션: {option}\")\n",
    "\n",
    "        # ✅ 1. 옵션 선택 창 다시 열기 (필수)\n",
    "        try:\n",
    "            options_toggle = driver.find_element(By.CSS_SELECTOR, \"#container > div > form > fieldset > div > section > article.find_store_cont > header > p > a\")\n",
    "\n",
    "            # 첫 번째 옵션 선택 시에는 조건 확인, 이후에는 무조건 클릭\n",
    "            if count == 0:\n",
    "                print(\"옵션 창이 이미 열려 있음, 클릭 생략\")\n",
    "            else:\n",
    "                options_toggle.click()\n",
    "                time.sleep(2)\n",
    "\n",
    "            count += 1  # 클릭 횟수 증가\n",
    "\n",
    "        except Exception as e:\n",
    "            print(f\"❌ 옵션 선택 창 열기 오류 발생: {e}\")\n",
    "\n",
    "\n",
    "        # ✅ 2. \"위치 및 시설\" 섹션 (`dl.opt_select_dl3`) 찾기\n",
    "        checkbox_section = driver.find_element(By.CSS_SELECTOR, \"#mCSB_7_container > dl.opt_select_dl3\")\n",
    "\n",
    "        # ✅ 3. 섹션 내 모든 label 요소 가져오기\n",
    "        checkboxes = checkbox_section.find_elements(By.CSS_SELECTOR, \"input[type='checkbox']\")\n",
    "        labels = checkbox_section.find_elements(By.CSS_SELECTOR, \"dd > label\")  # 라벨도 가져옴\n",
    "\n",
    "        # ✅ 4. 스크롤 가능한 div 찾기 (스크롤을 적용할 대상)\n",
    "        #mCSB_7_dragger_vertical\n",
    "        scrollable_div = driver.find_element(By.CSS_SELECTOR, \"#mCSB_7_dragger_vertical\")\n",
    "\n",
    "        # ✅ 5. 체크박스가 화면에 보이도록 하나씩 `scrollIntoView()`\n",
    "        for label in labels:\n",
    "            driver.execute_script(\"arguments[0].scrollIntoView({block: 'center'});\", label)\n",
    "            time.sleep(0.5)  # 스크롤 후 로딩 대기\n",
    "\n",
    "        # ✅ 6. 체크박스와 이름을 매칭하는 딕셔너리 생성\n",
    "        checkbox_dict = {label.text.strip(): checkbox for label, checkbox in zip(labels, checkboxes) if label.text.strip()}\n",
    "\n",
    "        # ✅ 7. 체크박스 이름을 저장할 리스트\n",
    "        checkbox_name_list = list(checkbox_dict.keys())\n",
    "\n",
    "        # 결과 출력\n",
    "        print(\"✅ 저장된 체크박스 이름 목록:\")\n",
    "        print(checkbox_name_list)\n",
    "\n",
    "        # ✅ 8. 기존 체크박스 정보 재사용하여 모든 체크 해제\n",
    "        for name, checkbox in checkbox_dict.items():\n",
    "            if checkbox.is_selected():\n",
    "                driver.execute_script(\"arguments[0].click();\", checkbox)\n",
    "                time.sleep(1)\n",
    "\n",
    "        # ✅ 9. 특정 옵션 선택 (스크롤 후 클릭)\n",
    "        if option in checkbox_dict:\n",
    "            # block 뒤에 start, center, end 등으로 화면 위치 조정\n",
    "            driver.execute_script(\"arguments[0].scrollIntoView({block: 'end'});\", checkbox_dict[option])\n",
    "            # driver.execute_script(\"arguments[0].scrollIntoView({block: 'center'});\", checkbox_dict[option])\n",
    "            time.sleep(1)\n",
    "            driver.execute_script(\"arguments[0].click();\", checkbox_dict[option])\n",
    "            time.sleep(1)\n",
    "\n",
    "\n",
    "        # ✅ 10. \"필터 적용\" 버튼 클릭\n",
    "        apply_button = driver.find_element(By.CSS_SELECTOR, \"#storeMap > form > fieldset > div > ul > li.li2 > a\")\n",
    "        apply_button.click()\n",
    "\n",
    "        time.sleep(5)\n",
    "\n",
    "        # ✅ 11. 적용된 필터의 매장 목록 크롤링\n",
    "        filtered_stores = driver.find_elements(By.CSS_SELECTOR, \"#mCSB_3_container > ul > li\")\n",
    "\n",
    "        # ✅ 12. 매장 정보 저장\n",
    "        filtered_store_data = []\n",
    "        for store in filtered_stores:\n",
    "            store_name = store.get_attribute(\"data-name\")\n",
    "            store_lat = store.get_attribute(\"data-lat\")\n",
    "            store_long = store.get_attribute(\"data-long\")\n",
    "            filtered_store_data.append({\n",
    "                \"옵션\": option,\n",
    "                \"매장명\": store_name,\n",
    "                \"위도\": store_lat,\n",
    "                \"경도\": store_long\n",
    "            })\n",
    "\n",
    "        all_data.extend(filtered_store_data)\n",
    "        print(f\"✅ [{option}] - {len(filtered_store_data)}개 매장 크롤링 완료\")\n",
    "\n",
    "        # DataFrame 생성\n",
    "        df_option = pd.DataFrame(filtered_store_data)\n",
    "\n",
    "        # ✅ 개별 옵션별 파일명 설정\n",
    "        if \"/\" in option or \" \" in option:\n",
    "            safe_option = option.replace(\"/\", \"_\").replace(\" \", \"\")\n",
    "        else:\n",
    "            safe_option = option  # 변경할 필요 없으면 원본 유지\n",
    "        \n",
    "        # 개별 옵션별 파일명 설정\n",
    "        file_name_csv = f\"{save_dir}/스타벅스_{safe_option}.csv\"\n",
    "        file_name_excel = f\"{save_dir}/스타벅스_{safe_option}.xlsx\"\n",
    "\n",
    "        # CSV & Excel 저장\n",
    "        df_option.to_csv(file_name_csv, index=False, encoding=\"utf-8-sig\")  # CSV 저장\n",
    "        df_option.to_excel(file_name_excel, index=False)  # Excel 저장\n",
    "\n",
    "        print(f\"✅ [{safe_option}] - {len(filtered_store_data)}개 매장 크롤링 완료 및 저장 완료 (CSV, Excel)\")\n",
    "\n",
    "    except Exception as e:\n",
    "        print(f\"❌ [{option}] - 오류 발생: {e}\")\n",
    "\n",
    "# 최종 출력\n",
    "print(f\"📂 모든 옵션별 데이터가 '{save_dir}' 폴더에 저장되었습니다.\")"
   ],
   "id": "ec3684182da30618",
   "execution_count": 721,
   "outputs": []
  },
  {
   "metadata": {},
   "cell_type": "code",
   "execution_count": null,
   "source": "",
   "id": "1401602af2ef8273",
   "outputs": []
  }
 ],
 "metadata": {
  "kernelspec": {
   "display_name": "Python 3",
   "language": "python",
   "name": "python3"
  },
  "language_info": {
   "codemirror_mode": {
    "name": "ipython",
    "version": 2
   },
   "file_extension": ".py",
   "mimetype": "text/x-python",
   "name": "python",
   "nbconvert_exporter": "python",
   "pygments_lexer": "ipython2",
   "version": "2.7.6"
  }
 },
 "nbformat": 4,
 "nbformat_minor": 5
}
